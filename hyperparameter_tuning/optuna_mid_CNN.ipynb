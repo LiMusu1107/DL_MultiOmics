{
  "cells": [
    {
      "cell_type": "code",
      "execution_count": 3,
      "metadata": {},
      "outputs": [],
      "source": [
        "# Standard library imports\n",
        "import os\n",
        "import time\n",
        "import copy\n",
        "import pickle\n",
        "\n",
        "# Third-party library imports\n",
        "import numpy as np\n",
        "import pandas as pd\n",
        "from sklearn.metrics import (\n",
        "    accuracy_score, f1_score, precision_score, recall_score,\n",
        "    roc_auc_score, average_precision_score, cohen_kappa_score\n",
        ")\n",
        "from sklearn.model_selection import StratifiedKFold, train_test_split\n",
        "from sklearn.preprocessing import MinMaxScaler, label_binarize\n",
        "\n",
        "# PyTorch imports\n",
        "import torch\n",
        "import torch.nn.functional as F\n",
        "\n",
        "# Project-specific imports (MoGoNet)\n",
        "from models.models_mid_CNN import init_model_dict, init_optim\n",
        "from models.train_test_mid_CNN import (\n",
        "    prepare_trte_data, gen_trte_adj_mat, train_epoch, test_epoch\n",
        ")\n",
        "from models.utils import (\n",
        "    save_model_dict, one_hot_tensor, cal_sample_weight,\n",
        "    gen_adj_mat_tensor, gen_test_adj_mat_tensor, cal_adj_mat_parameter\n",
        ")"
      ]
    },
    {
      "cell_type": "code",
      "execution_count": 4,
      "metadata": {},
      "outputs": [],
      "source": [
        "import importlib\n",
        "from models.models_mid_CNN import init_model_dict, init_optim\n",
        "from models.train_test_mid_CNN import prepare_trte_data, gen_trte_adj_mat, train_epoch, test_epoch\n",
        "\n",
        "# 修改代码后，重新加载模块\n",
        "importlib.reload(importlib.import_module(\"models.models_mid_CNN\"))\n",
        "importlib.reload(importlib.import_module(\"models.train_test_mid_CNN\"))\n",
        "\n",
        "# 重新导入\n",
        "from models.models_mid_CNN import init_model_dict, init_optim\n",
        "from models.train_test_mid_CNN import prepare_trte_data, gen_trte_adj_mat, train_epoch, test_epoch"
      ]
    },
    {
      "cell_type": "code",
      "execution_count": 5,
      "metadata": {},
      "outputs": [],
      "source": [
        "import optuna\n",
        "import numpy as np\n",
        "# from sklearn.model_selection import KFold\n",
        "from sklearn.metrics import accuracy_score\n",
        "\n",
        "from datetime import datetime, timedelta\n",
        "from tqdm import tqdm"
      ]
    },
    {
      "cell_type": "code",
      "execution_count": 38,
      "metadata": {},
      "outputs": [],
      "source": [
        "def objective(trial):\n",
        "    \"\"\"\n",
        "    Optuna的目标函数，用于超参数优化\n",
        "    \"\"\"\n",
        "    # 超参数搜索空间定义\n",
        "    # lr_e = trial.suggest_categorical('lr_e', [1e-4, 5e-4, 1e-3])\n",
        "    lr_c = trial.suggest_categorical('lr_c',  [ 1e-4, 5e-4, 1e-3, 5e-3 ])\n",
        "    # dropout_rate = trial.suggest_categorical('dropout_rate', [0.1, 0.3, 0.5])\n",
        "    # dropout_rate = trial.suggest_float(\n",
        "    # 'dropout_rate', \n",
        "    # low=0.75, \n",
        "    # high=0.85, \n",
        "    # step=0.05  # 可选步长（如0.01表示按0.65,0.66,...,0.85搜索）\n",
        "    # )\n",
        "    # dim_hvcdn = trial.suggest_categorical('dim_hvcdn', [27,  200])\n",
        "    # dropout_vcdn = trial.suggest_categorical('dropout_vcdn', [0.0,  0.1])\n",
        "    # dim_he_list 的搜索空间 - 三个隐藏层\n",
        "    # dim_he_1 = trial.suggest_int('dim_he_1', 200, 300, step=100)\n",
        "    # dim_he_2 = trial.suggest_int('dim_he_2', 100, 200, step=100)\n",
        "    # dim_he_3 = trial.suggest_categorical('dim_he_3',  [50, 100])\n",
        "    # dim_he_list = [dim_he_1, dim_he_2, dim_he_3]\n",
        "    \n",
        "    # dim_options = [\n",
        "    #     [16, 32, 100],\n",
        "    #     [32, 64, 100]\n",
        "    # ]\n",
        "    # # 选择索引\n",
        "    # dim_index = trial.suggest_categorical('dim_he_index', [0, 1])\n",
        "    # dim_he_list = dim_options[dim_index]\n",
        "\n",
        "    # kernal_options = [\n",
        "    #     [8, 4],\n",
        "    #     [6, 3]\n",
        "    # ]\n",
        "    # # 选择索引\n",
        "    # kernal_index = trial.suggest_categorical('kernal_index', [0, 1])\n",
        "    # kernal_dim = kernal_options[kernal_index]\n",
        "\n",
        "\n",
        "    # maxpool_options = [\n",
        "    #     [4, 2],\n",
        "    #     [2, 3],\n",
        "    #     [2, 1]\n",
        "    # ]\n",
        "    # # 选择索引\n",
        "    # maxpool_index = trial.suggest_categorical('maxpool_index', [0, 1, 2])\n",
        "    # maxpool_dim = maxpool_options[maxpool_index]\n",
        "\n",
        "    # 确保隐藏层维度是递减的\n",
        "    # if not (dim_he_1 >= dim_he_2 >= dim_he_3):\n",
        "    #     return 0.0  # 返回较差的分数\n",
        "    \n",
        "    # 设置固定参数\n",
        "    lr_e = 5e-4\n",
        "    # lr_c = 5e-4\n",
        "    dropout_rate = 0.3\n",
        "    kernal_dim = [8, 4]\n",
        "    maxpool_dim = [2, 1]\n",
        "    dim_he_list = [16, 32, 100]\n",
        "    lr_e_pretrain = 1e-3\n",
        "    num_view = 3\n",
        "    scenario = 2\n",
        "    ch_sig_prop = \"高\"\n",
        "    ch_sig_level = \"中\"\n",
        "    signal_prop = \"high\"\n",
        "    signal_level = \"mid\"\n",
        "    num_epoch_pretrain = 20\n",
        "    num_epoch = 200\n",
        "    num_class = 3  # 假设是3分类问题\n",
        "    # dim_hvcdn = 200  # VCDN的隐藏层维度\n",
        "    cuda = torch.cuda.is_available()\n",
        "    cuda = torch.cuda.is_available()\n",
        "    \n",
        "    # 存储所有fold的准确率\n",
        "    fold_accuracies = []\n",
        "    \n",
        "    # 交叉验证\n",
        "    kfold = StratifiedKFold(n_splits=5, shuffle=True, random_state=42)\n",
        "    \n",
        "    try:\n",
        "        for batch_num in range(1, 3):  # 只用一个batch进行调参\n",
        "            # 数据路径\n",
        "            sim_path = f\"F:/r-env/中期/方法/模拟试验-模拟数据/情景{scenario}/k-3/信号比例-{ch_sig_prop}/信号水平-{ch_sig_level}/sim{batch_num}\"\n",
        "            \n",
        "            # 加载数据\n",
        "            omics1 = np.loadtxt(f\"{sim_path}/s{scenario}-k3-{signal_prop}-{signal_level}-batch{batch_num}-mrna.csv\", delimiter=',')\n",
        "            omics2 = np.loadtxt(f\"{sim_path}/s{scenario}-k3-{signal_prop}-{signal_level}-batch{batch_num}-meth.csv\", delimiter=',')\n",
        "            omics3 = np.loadtxt(f\"{sim_path}/s{scenario}-k3-{signal_prop}-{signal_level}-batch{batch_num}-mutate.csv\", delimiter=',')\n",
        "            \n",
        "            labels = np.loadtxt(f\"F:/r-env/中期/方法/模拟试验-模拟数据/情景{scenario}/k-3/label-k3.csv\", delimiter=',')\n",
        "\n",
        "            # 数据预处理\n",
        "            # scaler = MinMaxScaler()\n",
        "            # omics1_scaled = scaler.fit_transform(omics1)\n",
        "            # omics2_scaled = scaler.fit_transform(omics2)\n",
        "            \n",
        "            # omics = np.concatenate((omics1_scaled, omics2_scaled, omics3), axis=1)\n",
        "            omics_data = [omics1, omics2, omics3]\n",
        "            # 假设labels是从某处加载的，这里需要您提供实际的标签加载代码\n",
        "            # labels = np.loadtxt(f\"{sim_path}/labels.csv\", delimiter=',')  # 请根据实际情况修改\n",
        "            \n",
        "            for fold_num, (train_idx_raw, test_idx) in enumerate(kfold.split(omics1, labels)):\n",
        "                if fold_num >= 3:  # 为了加速调参，只使用前3个fold\n",
        "                    break\n",
        "                    \n",
        "                # 将train_idx_raw按3:1划分为train_idx和val_idx\n",
        "                train_idx, val_idx = train_test_split(\n",
        "                    train_idx_raw, \n",
        "                    test_size=0.25,  # 25%作为验证集，75%作为训练集 (3:1比例)\n",
        "                    random_state=2023110400,\n",
        "                    stratify=labels[train_idx_raw]  # 保持标签分布\n",
        "                )\n",
        "                \n",
        "                # 获取对应的数据\n",
        "                data_tr_list = []\n",
        "                data_val_list = []\n",
        "                data_te_list = []\n",
        "                data_trval_list = []\n",
        "                data_trte_list = []\n",
        "\n",
        "                # 通过循环处理每个omics数据集\n",
        "                for omic in omics_data:\n",
        "                    train_X = omic[train_idx]\n",
        "                    val_X = omic[val_idx]\n",
        "                    test_X = omic[test_idx]\n",
        "                    data_tr_list.append(torch.FloatTensor(train_X).cuda() )\n",
        "                    data_val_list.append(torch.FloatTensor(val_X).cuda() )\n",
        "                    data_te_list.append(torch.FloatTensor(test_X).cuda() )\n",
        "                    data_trval_list.append(torch.FloatTensor(np.concatenate((train_X, val_X), axis=0)).cuda() )\n",
        "                    data_trte_list.append(torch.FloatTensor(np.concatenate((train_X, test_X), axis=0)).cuda() )\n",
        "\n",
        "                train_y, val_y, test_y = labels[train_idx], labels[val_idx], labels[test_idx]\n",
        "\n",
        "\n",
        "                # 准备数据\n",
        "                num_tr = data_tr_list[0].shape[0]\n",
        "                num_trval = data_trval_list[0].shape[0]\n",
        "                num_trte = data_trte_list[0].shape[0]\n",
        "\n",
        "                labels_trval = np.concatenate((train_y, val_y))\n",
        "                labels_trte = np.concatenate((train_y, test_y))\n",
        "\n",
        "                trval_idx = {\n",
        "                    \"tr\": list(range(num_tr)),\n",
        "                    \"te\": list(range(num_tr, num_trval))\n",
        "                }\n",
        "                \n",
        "                trte_idx = {\n",
        "                    \"tr\": list(range(num_tr)),\n",
        "                    \"te\": list(range(num_tr, num_trte))\n",
        "                }\n",
        "                \n",
        "                labels_tr_tensor = torch.LongTensor(labels_trval[trval_idx[\"tr\"]])\n",
        "                onehot_labels_tr_tensor = one_hot_tensor(labels_tr_tensor, num_class)\n",
        "                sample_weight_tr = torch.FloatTensor(cal_sample_weight(labels_trval[trval_idx[\"tr\"]], num_class))\n",
        "                \n",
        "                if cuda:\n",
        "                    labels_tr_tensor = labels_tr_tensor.cuda()\n",
        "                    onehot_labels_tr_tensor = onehot_labels_tr_tensor.cuda()\n",
        "                    sample_weight_tr = sample_weight_tr.cuda()\n",
        "                \n",
        "                # adj_tr_list, adj_val_list = gen_trte_adj_mat(data_tr_list, data_trval_list, trval_idx, adj_parameter)\n",
        "\n",
        "                # 初始化模型\n",
        "                dim_list = [x.shape[1] for x in data_tr_list]\n",
        "\n",
        "                model_dict = init_model_dict(num_view, num_class, dim_list, dim_he_list,  kernal_dim, maxpool_dim, dropout_rate)\n",
        "                # model_dict = init_model_dict(num_view, num_class, dim_list, dim_he_list,  dropout_e)\n",
        "                optim_dict = init_optim(num_view, model_dict, lr_e_pretrain, lr_c)\n",
        "                \n",
        "                for model in model_dict.values():\n",
        "                    if cuda:\n",
        "                        model.cuda()\n",
        "                \n",
        "                # 预训练\n",
        "                for epoch in range(num_epoch_pretrain):\n",
        "                    train_epoch(data_tr_list, labels_tr_tensor, \n",
        "                               onehot_labels_tr_tensor, sample_weight_tr, model_dict, optim_dict,  train_fusion=True)\n",
        "\n",
        "                # 主训练\n",
        "                optim_dict = init_optim(num_view, model_dict, lr_e, lr_c)\n",
        "                \n",
        "                # 早停机制\n",
        "                best_accuracy = 0.0\n",
        "                patience = 20\n",
        "                no_improvement_count = 0\n",
        "                best_model = None\n",
        "\n",
        "                for epoch in range(num_epoch):\n",
        "                    train_epoch(data_tr_list, labels_tr_tensor, \n",
        "                               onehot_labels_tr_tensor, sample_weight_tr, model_dict, optim_dict,  train_fusion=True)\n",
        "                    \n",
        "                    # 每10个epoch验证一次\n",
        "                    if epoch % 2 == 0:\n",
        "                        val_prob = test_epoch(data_trval_list,  trval_idx[\"te\"], model_dict) ####\n",
        "                        predictions = np.argmax(val_prob, axis=1)\n",
        "                        accuracy = accuracy_score(val_y, predictions)\n",
        "                        \n",
        "                        if accuracy > best_accuracy:\n",
        "                            best_accuracy = accuracy\n",
        "                            no_improvement_count = 0\n",
        "                            best_model = copy.deepcopy(model_dict)\n",
        "                        else:\n",
        "                            no_improvement_count += 2\n",
        "                            \n",
        "                        if no_improvement_count >= patience:\n",
        "                            break\n",
        "                \n",
        "                # 最终测试\n",
        "                # adj_tr_list, adj_te_list = gen_trte_adj_mat(data_tr_list, data_trte_list, trte_idx, adj_parameter)\n",
        "                te_prob = test_epoch(data_trte_list, trte_idx[\"te\"], best_model)\n",
        "                # te_prob = test_epoch(data_trte_list, adj_te_list, trte_idx[\"te\"], best_model)\n",
        "                # te_prob = test_epoch(data_trval_list, adj_val_list, trval_idx[\"te\"], best_model)\n",
        "                predictions = np.argmax(te_prob, axis=1)\n",
        "                fold_accuracy = accuracy_score(test_y, predictions)\n",
        "                fold_accuracies.append(fold_accuracy)\n",
        "                \n",
        "                # 为了加速调参，如果当前fold表现很差，可以提前结束\n",
        "                if fold_accuracy < 0.3:  # 阈值可以根据实际情况调整\n",
        "                    break\n",
        "    \n",
        "    except Exception as e:\n",
        "        print(f\"Trial failed with error: {e}\")\n",
        "        return 0.0\n",
        "    \n",
        "    # 返回平均准确率\n",
        "    if len(fold_accuracies) == 0:\n",
        "        return 0.0\n",
        "    \n",
        "    mean_accuracy = np.mean(fold_accuracies)\n",
        "    return mean_accuracy\n"
      ]
    },
    {
      "cell_type": "code",
      "execution_count": 39,
      "metadata": {},
      "outputs": [],
      "source": [
        "def optimize_hyperparameters(n_trials=20,timeout=300 ,n_jobs=1):\n",
        "    \"\"\"\n",
        "    运行超参数优化\n",
        "    \n",
        "    Args:\n",
        "        n_trials: 优化试验次数\n",
        "        n_jobs: 并行作业数量\n",
        "    \n",
        "    Returns:\n",
        "        study: Optuna study对象，包含优化结果\n",
        "    \"\"\"\n",
        "    # 创建study\n",
        "    study = optuna.create_study(\n",
        "        direction='maximize',  # 最大化准确率\n",
        "        sampler=optuna.samplers.TPESampler(seed=42),  # 使用TPE采样器\n",
        "        pruner=optuna.pruners.MedianPruner(  # 使用中位数剪枝器\n",
        "            n_startup_trials=10,  # 前10个trial不进行剪枝\n",
        "            n_warmup_steps=30,    # 前30步不进行剪枝\n",
        "            interval_steps=10     # 每10步检查一次是否需要剪枝\n",
        "        )\n",
        "    )\n",
        "    \n",
        "    # 开始优化\n",
        "    study.optimize(objective, n_trials=n_trials,  timeout=timeout, n_jobs=n_jobs)\n",
        "    \n",
        "    return study"
      ]
    },
    {
      "cell_type": "code",
      "execution_count": 40,
      "metadata": {},
      "outputs": [],
      "source": [
        "def print_optimization_results(study):\n",
        "    \"\"\"\n",
        "    打印优化结果\n",
        "    \n",
        "    Args:\n",
        "        study: Optuna study对象\n",
        "    \"\"\"\n",
        "    print(\"优化完成!\")\n",
        "    print(f\"最佳试验编号: {study.best_trial.number}\")\n",
        "    print(f\"最佳准确率: {study.best_value:.4f}\")\n",
        "    print(\"最佳超参数:\")\n",
        "    for key, value in study.best_params.items():\n",
        "        print(f\"  {key}: {value}\")\n",
        "    \n",
        "    # 保存优化历史\n",
        "    df = study.trials_dataframe()\n",
        "    # df.to_csv('optuna_optimization_history.csv', index=False)\n",
        "    # print(\"优化历史已保存到 'optuna_optimization_history.csv'\")\n"
      ]
    },
    {
      "cell_type": "code",
      "execution_count": 41,
      "metadata": {},
      "outputs": [
        {
          "name": "stdout",
          "output_type": "stream",
          "text": [
            "开始超参数优化...\n",
            "开始时间: 2025-08-20 17:48:44\n"
          ]
        },
        {
          "name": "stderr",
          "output_type": "stream",
          "text": [
            "[I 2025-08-20 17:48:44,679] A new study created in memory with name: no-name-35e879a1-07cb-4395-9121-d7f4c673e94b\n",
            "[I 2025-08-20 17:48:51,431] Trial 0 finished with value: 0.8616666666666668 and parameters: {'lr_c': 0.0005}. Best is trial 0 with value: 0.8616666666666668.\n",
            "[I 2025-08-20 17:48:58,663] Trial 1 finished with value: 0.8566666666666668 and parameters: {'lr_c': 0.005}. Best is trial 0 with value: 0.8616666666666668.\n",
            "[I 2025-08-20 17:49:06,262] Trial 2 finished with value: 0.8666666666666667 and parameters: {'lr_c': 0.005}. Best is trial 2 with value: 0.8666666666666667.\n",
            "[I 2025-08-20 17:49:12,924] Trial 3 finished with value: 0.8666666666666667 and parameters: {'lr_c': 0.0001}. Best is trial 2 with value: 0.8666666666666667.\n",
            "[I 2025-08-20 17:49:20,419] Trial 4 finished with value: 0.85 and parameters: {'lr_c': 0.0005}. Best is trial 2 with value: 0.8666666666666667.\n",
            "[I 2025-08-20 17:49:27,021] Trial 5 finished with value: 0.8616666666666667 and parameters: {'lr_c': 0.0001}. Best is trial 2 with value: 0.8666666666666667.\n",
            "[I 2025-08-20 17:49:34,311] Trial 6 finished with value: 0.8599999999999999 and parameters: {'lr_c': 0.0005}. Best is trial 2 with value: 0.8666666666666667.\n",
            "[I 2025-08-20 17:49:41,785] Trial 7 finished with value: 0.8716666666666667 and parameters: {'lr_c': 0.001}. Best is trial 7 with value: 0.8716666666666667.\n",
            "[I 2025-08-20 17:49:49,276] Trial 8 finished with value: 0.8566666666666668 and parameters: {'lr_c': 0.001}. Best is trial 7 with value: 0.8716666666666667.\n",
            "[I 2025-08-20 17:49:56,000] Trial 9 finished with value: 0.8616666666666667 and parameters: {'lr_c': 0.001}. Best is trial 7 with value: 0.8716666666666667.\n",
            "[I 2025-08-20 17:50:03,197] Trial 10 finished with value: 0.8433333333333333 and parameters: {'lr_c': 0.001}. Best is trial 7 with value: 0.8716666666666667.\n",
            "[I 2025-08-20 17:50:10,467] Trial 11 finished with value: 0.85 and parameters: {'lr_c': 0.005}. Best is trial 7 with value: 0.8716666666666667.\n",
            "[I 2025-08-20 17:50:19,211] Trial 12 finished with value: 0.8616666666666667 and parameters: {'lr_c': 0.005}. Best is trial 7 with value: 0.8716666666666667.\n",
            "[I 2025-08-20 17:50:27,170] Trial 13 finished with value: 0.8650000000000001 and parameters: {'lr_c': 0.005}. Best is trial 7 with value: 0.8716666666666667.\n",
            "[I 2025-08-20 17:50:33,458] Trial 14 finished with value: 0.8583333333333334 and parameters: {'lr_c': 0.001}. Best is trial 7 with value: 0.8716666666666667.\n",
            "[I 2025-08-20 17:50:40,808] Trial 15 finished with value: 0.8666666666666667 and parameters: {'lr_c': 0.005}. Best is trial 7 with value: 0.8716666666666667.\n",
            "[I 2025-08-20 17:50:48,049] Trial 16 finished with value: 0.8616666666666667 and parameters: {'lr_c': 0.001}. Best is trial 7 with value: 0.8716666666666667.\n",
            "[I 2025-08-20 17:50:55,899] Trial 17 finished with value: 0.8599999999999999 and parameters: {'lr_c': 0.0001}. Best is trial 7 with value: 0.8716666666666667.\n",
            "[I 2025-08-20 17:51:03,280] Trial 18 finished with value: 0.8766666666666666 and parameters: {'lr_c': 0.005}. Best is trial 18 with value: 0.8766666666666666.\n",
            "[I 2025-08-20 17:51:10,088] Trial 19 finished with value: 0.87 and parameters: {'lr_c': 0.001}. Best is trial 18 with value: 0.8766666666666666.\n"
          ]
        },
        {
          "name": "stdout",
          "output_type": "stream",
          "text": [
            "结束时间: 2025-08-20 17:51:10\n",
            "总耗时: 145.42 秒\n",
            "总耗时: 0:02:25\n",
            "优化完成!\n",
            "最佳试验编号: 18\n",
            "最佳准确率: 0.8767\n",
            "最佳超参数:\n",
            "  lr_c: 0.005\n",
            "\n",
            "==================================================\n",
            "时间统计:\n",
            "开始时间: 2025-08-20 17:48:44\n",
            "结束时间: 2025-08-20 17:51:10\n",
            "总耗时: 145.42 秒\n",
            "总耗时: 0:02:25\n",
            "平均每个trial耗时: 7.27 秒\n",
            "==================================================\n"
          ]
        }
      ],
      "source": [
        "\n",
        "if __name__ == \"__main__\":\n",
        "    # 记录开始时间\n",
        "    start_time = time.time()\n",
        "    start_datetime = datetime.now()\n",
        "    \n",
        "    print(\"开始超参数优化...\")\n",
        "    print(f\"开始时间: {start_datetime.strftime('%Y-%m-%d %H:%M:%S')}\")\n",
        "    \n",
        "    # 运行超参数优化\n",
        "    study = optimize_hyperparameters(n_trials=20, timeout=30000, n_jobs=1)\n",
        "    \n",
        "    # 记录结束时间并计算耗时\n",
        "    end_time = time.time()\n",
        "    end_datetime = datetime.now()\n",
        "    elapsed_time = end_time - start_time\n",
        "    \n",
        "    print(f\"结束时间: {end_datetime.strftime('%Y-%m-%d %H:%M:%S')}\")\n",
        "    print(f\"总耗时: {elapsed_time:.2f} 秒\")\n",
        "    print(f\"总耗时: {str(timedelta(seconds=int(elapsed_time)))}\")\n",
        "    \n",
        "    # 打印结果\n",
        "    print_optimization_results(study)\n",
        "    \n",
        "    # 打印详细的时间信息\n",
        "    print(\"\\n\" + \"=\"*50)\n",
        "    print(\"时间统计:\")\n",
        "    print(f\"开始时间: {start_datetime.strftime('%Y-%m-%d %H:%M:%S')}\")\n",
        "    print(f\"结束时间: {end_datetime.strftime('%Y-%m-%d %H:%M:%S')}\")\n",
        "    print(f\"总耗时: {elapsed_time:.2f} 秒\")\n",
        "    print(f\"总耗时: {str(timedelta(seconds=int(elapsed_time)))}\")\n",
        "    if study.trials:\n",
        "        print(f\"平均每个trial耗时: {elapsed_time/len(study.trials):.2f} 秒\")\n",
        "    print(\"=\"*50)"
      ]
    },
    {
      "cell_type": "code",
      "execution_count": 42,
      "metadata": {},
      "outputs": [
        {
          "data": {
            "application/vnd.plotly.v1+json": {
              "config": {
                "plotlyServerURL": "https://plot.ly"
              },
              "data": [
                {
                  "mode": "markers",
                  "name": "Objective Value",
                  "type": "scatter",
                  "x": [
                    0,
                    1,
                    2,
                    3,
                    4,
                    5,
                    6,
                    7,
                    8,
                    9,
                    10,
                    11,
                    12,
                    13,
                    14,
                    15,
                    16,
                    17,
                    18,
                    19
                  ],
                  "y": [
                    0.8616666666666668,
                    0.8566666666666668,
                    0.8666666666666667,
                    0.8666666666666667,
                    0.85,
                    0.8616666666666667,
                    0.8599999999999999,
                    0.8716666666666667,
                    0.8566666666666668,
                    0.8616666666666667,
                    0.8433333333333333,
                    0.85,
                    0.8616666666666667,
                    0.8650000000000001,
                    0.8583333333333334,
                    0.8666666666666667,
                    0.8616666666666667,
                    0.8599999999999999,
                    0.8766666666666666,
                    0.87
                  ]
                },
                {
                  "mode": "lines",
                  "name": "Best Value",
                  "type": "scatter",
                  "x": [
                    0,
                    1,
                    2,
                    3,
                    4,
                    5,
                    6,
                    7,
                    8,
                    9,
                    10,
                    11,
                    12,
                    13,
                    14,
                    15,
                    16,
                    17,
                    18,
                    19
                  ],
                  "y": [
                    0.8616666666666668,
                    0.8616666666666668,
                    0.8666666666666667,
                    0.8666666666666667,
                    0.8666666666666667,
                    0.8666666666666667,
                    0.8666666666666667,
                    0.8716666666666667,
                    0.8716666666666667,
                    0.8716666666666667,
                    0.8716666666666667,
                    0.8716666666666667,
                    0.8716666666666667,
                    0.8716666666666667,
                    0.8716666666666667,
                    0.8716666666666667,
                    0.8716666666666667,
                    0.8716666666666667,
                    0.8766666666666666,
                    0.8766666666666666
                  ]
                },
                {
                  "marker": {
                    "color": "#cccccc"
                  },
                  "mode": "markers",
                  "name": "Infeasible Trial",
                  "showlegend": false,
                  "type": "scatter",
                  "x": [],
                  "y": []
                }
              ],
              "layout": {
                "template": {
                  "data": {
                    "bar": [
                      {
                        "error_x": {
                          "color": "#2a3f5f"
                        },
                        "error_y": {
                          "color": "#2a3f5f"
                        },
                        "marker": {
                          "line": {
                            "color": "#E5ECF6",
                            "width": 0.5
                          },
                          "pattern": {
                            "fillmode": "overlay",
                            "size": 10,
                            "solidity": 0.2
                          }
                        },
                        "type": "bar"
                      }
                    ],
                    "barpolar": [
                      {
                        "marker": {
                          "line": {
                            "color": "#E5ECF6",
                            "width": 0.5
                          },
                          "pattern": {
                            "fillmode": "overlay",
                            "size": 10,
                            "solidity": 0.2
                          }
                        },
                        "type": "barpolar"
                      }
                    ],
                    "carpet": [
                      {
                        "aaxis": {
                          "endlinecolor": "#2a3f5f",
                          "gridcolor": "white",
                          "linecolor": "white",
                          "minorgridcolor": "white",
                          "startlinecolor": "#2a3f5f"
                        },
                        "baxis": {
                          "endlinecolor": "#2a3f5f",
                          "gridcolor": "white",
                          "linecolor": "white",
                          "minorgridcolor": "white",
                          "startlinecolor": "#2a3f5f"
                        },
                        "type": "carpet"
                      }
                    ],
                    "choropleth": [
                      {
                        "colorbar": {
                          "outlinewidth": 0,
                          "ticks": ""
                        },
                        "type": "choropleth"
                      }
                    ],
                    "contour": [
                      {
                        "colorbar": {
                          "outlinewidth": 0,
                          "ticks": ""
                        },
                        "colorscale": [
                          [
                            0,
                            "#0d0887"
                          ],
                          [
                            0.1111111111111111,
                            "#46039f"
                          ],
                          [
                            0.2222222222222222,
                            "#7201a8"
                          ],
                          [
                            0.3333333333333333,
                            "#9c179e"
                          ],
                          [
                            0.4444444444444444,
                            "#bd3786"
                          ],
                          [
                            0.5555555555555556,
                            "#d8576b"
                          ],
                          [
                            0.6666666666666666,
                            "#ed7953"
                          ],
                          [
                            0.7777777777777778,
                            "#fb9f3a"
                          ],
                          [
                            0.8888888888888888,
                            "#fdca26"
                          ],
                          [
                            1,
                            "#f0f921"
                          ]
                        ],
                        "type": "contour"
                      }
                    ],
                    "contourcarpet": [
                      {
                        "colorbar": {
                          "outlinewidth": 0,
                          "ticks": ""
                        },
                        "type": "contourcarpet"
                      }
                    ],
                    "heatmap": [
                      {
                        "colorbar": {
                          "outlinewidth": 0,
                          "ticks": ""
                        },
                        "colorscale": [
                          [
                            0,
                            "#0d0887"
                          ],
                          [
                            0.1111111111111111,
                            "#46039f"
                          ],
                          [
                            0.2222222222222222,
                            "#7201a8"
                          ],
                          [
                            0.3333333333333333,
                            "#9c179e"
                          ],
                          [
                            0.4444444444444444,
                            "#bd3786"
                          ],
                          [
                            0.5555555555555556,
                            "#d8576b"
                          ],
                          [
                            0.6666666666666666,
                            "#ed7953"
                          ],
                          [
                            0.7777777777777778,
                            "#fb9f3a"
                          ],
                          [
                            0.8888888888888888,
                            "#fdca26"
                          ],
                          [
                            1,
                            "#f0f921"
                          ]
                        ],
                        "type": "heatmap"
                      }
                    ],
                    "heatmapgl": [
                      {
                        "colorbar": {
                          "outlinewidth": 0,
                          "ticks": ""
                        },
                        "colorscale": [
                          [
                            0,
                            "#0d0887"
                          ],
                          [
                            0.1111111111111111,
                            "#46039f"
                          ],
                          [
                            0.2222222222222222,
                            "#7201a8"
                          ],
                          [
                            0.3333333333333333,
                            "#9c179e"
                          ],
                          [
                            0.4444444444444444,
                            "#bd3786"
                          ],
                          [
                            0.5555555555555556,
                            "#d8576b"
                          ],
                          [
                            0.6666666666666666,
                            "#ed7953"
                          ],
                          [
                            0.7777777777777778,
                            "#fb9f3a"
                          ],
                          [
                            0.8888888888888888,
                            "#fdca26"
                          ],
                          [
                            1,
                            "#f0f921"
                          ]
                        ],
                        "type": "heatmapgl"
                      }
                    ],
                    "histogram": [
                      {
                        "marker": {
                          "pattern": {
                            "fillmode": "overlay",
                            "size": 10,
                            "solidity": 0.2
                          }
                        },
                        "type": "histogram"
                      }
                    ],
                    "histogram2d": [
                      {
                        "colorbar": {
                          "outlinewidth": 0,
                          "ticks": ""
                        },
                        "colorscale": [
                          [
                            0,
                            "#0d0887"
                          ],
                          [
                            0.1111111111111111,
                            "#46039f"
                          ],
                          [
                            0.2222222222222222,
                            "#7201a8"
                          ],
                          [
                            0.3333333333333333,
                            "#9c179e"
                          ],
                          [
                            0.4444444444444444,
                            "#bd3786"
                          ],
                          [
                            0.5555555555555556,
                            "#d8576b"
                          ],
                          [
                            0.6666666666666666,
                            "#ed7953"
                          ],
                          [
                            0.7777777777777778,
                            "#fb9f3a"
                          ],
                          [
                            0.8888888888888888,
                            "#fdca26"
                          ],
                          [
                            1,
                            "#f0f921"
                          ]
                        ],
                        "type": "histogram2d"
                      }
                    ],
                    "histogram2dcontour": [
                      {
                        "colorbar": {
                          "outlinewidth": 0,
                          "ticks": ""
                        },
                        "colorscale": [
                          [
                            0,
                            "#0d0887"
                          ],
                          [
                            0.1111111111111111,
                            "#46039f"
                          ],
                          [
                            0.2222222222222222,
                            "#7201a8"
                          ],
                          [
                            0.3333333333333333,
                            "#9c179e"
                          ],
                          [
                            0.4444444444444444,
                            "#bd3786"
                          ],
                          [
                            0.5555555555555556,
                            "#d8576b"
                          ],
                          [
                            0.6666666666666666,
                            "#ed7953"
                          ],
                          [
                            0.7777777777777778,
                            "#fb9f3a"
                          ],
                          [
                            0.8888888888888888,
                            "#fdca26"
                          ],
                          [
                            1,
                            "#f0f921"
                          ]
                        ],
                        "type": "histogram2dcontour"
                      }
                    ],
                    "mesh3d": [
                      {
                        "colorbar": {
                          "outlinewidth": 0,
                          "ticks": ""
                        },
                        "type": "mesh3d"
                      }
                    ],
                    "parcoords": [
                      {
                        "line": {
                          "colorbar": {
                            "outlinewidth": 0,
                            "ticks": ""
                          }
                        },
                        "type": "parcoords"
                      }
                    ],
                    "pie": [
                      {
                        "automargin": true,
                        "type": "pie"
                      }
                    ],
                    "scatter": [
                      {
                        "fillpattern": {
                          "fillmode": "overlay",
                          "size": 10,
                          "solidity": 0.2
                        },
                        "type": "scatter"
                      }
                    ],
                    "scatter3d": [
                      {
                        "line": {
                          "colorbar": {
                            "outlinewidth": 0,
                            "ticks": ""
                          }
                        },
                        "marker": {
                          "colorbar": {
                            "outlinewidth": 0,
                            "ticks": ""
                          }
                        },
                        "type": "scatter3d"
                      }
                    ],
                    "scattercarpet": [
                      {
                        "marker": {
                          "colorbar": {
                            "outlinewidth": 0,
                            "ticks": ""
                          }
                        },
                        "type": "scattercarpet"
                      }
                    ],
                    "scattergeo": [
                      {
                        "marker": {
                          "colorbar": {
                            "outlinewidth": 0,
                            "ticks": ""
                          }
                        },
                        "type": "scattergeo"
                      }
                    ],
                    "scattergl": [
                      {
                        "marker": {
                          "colorbar": {
                            "outlinewidth": 0,
                            "ticks": ""
                          }
                        },
                        "type": "scattergl"
                      }
                    ],
                    "scattermapbox": [
                      {
                        "marker": {
                          "colorbar": {
                            "outlinewidth": 0,
                            "ticks": ""
                          }
                        },
                        "type": "scattermapbox"
                      }
                    ],
                    "scatterpolar": [
                      {
                        "marker": {
                          "colorbar": {
                            "outlinewidth": 0,
                            "ticks": ""
                          }
                        },
                        "type": "scatterpolar"
                      }
                    ],
                    "scatterpolargl": [
                      {
                        "marker": {
                          "colorbar": {
                            "outlinewidth": 0,
                            "ticks": ""
                          }
                        },
                        "type": "scatterpolargl"
                      }
                    ],
                    "scatterternary": [
                      {
                        "marker": {
                          "colorbar": {
                            "outlinewidth": 0,
                            "ticks": ""
                          }
                        },
                        "type": "scatterternary"
                      }
                    ],
                    "surface": [
                      {
                        "colorbar": {
                          "outlinewidth": 0,
                          "ticks": ""
                        },
                        "colorscale": [
                          [
                            0,
                            "#0d0887"
                          ],
                          [
                            0.1111111111111111,
                            "#46039f"
                          ],
                          [
                            0.2222222222222222,
                            "#7201a8"
                          ],
                          [
                            0.3333333333333333,
                            "#9c179e"
                          ],
                          [
                            0.4444444444444444,
                            "#bd3786"
                          ],
                          [
                            0.5555555555555556,
                            "#d8576b"
                          ],
                          [
                            0.6666666666666666,
                            "#ed7953"
                          ],
                          [
                            0.7777777777777778,
                            "#fb9f3a"
                          ],
                          [
                            0.8888888888888888,
                            "#fdca26"
                          ],
                          [
                            1,
                            "#f0f921"
                          ]
                        ],
                        "type": "surface"
                      }
                    ],
                    "table": [
                      {
                        "cells": {
                          "fill": {
                            "color": "#EBF0F8"
                          },
                          "line": {
                            "color": "white"
                          }
                        },
                        "header": {
                          "fill": {
                            "color": "#C8D4E3"
                          },
                          "line": {
                            "color": "white"
                          }
                        },
                        "type": "table"
                      }
                    ]
                  },
                  "layout": {
                    "annotationdefaults": {
                      "arrowcolor": "#2a3f5f",
                      "arrowhead": 0,
                      "arrowwidth": 1
                    },
                    "autotypenumbers": "strict",
                    "coloraxis": {
                      "colorbar": {
                        "outlinewidth": 0,
                        "ticks": ""
                      }
                    },
                    "colorscale": {
                      "diverging": [
                        [
                          0,
                          "#8e0152"
                        ],
                        [
                          0.1,
                          "#c51b7d"
                        ],
                        [
                          0.2,
                          "#de77ae"
                        ],
                        [
                          0.3,
                          "#f1b6da"
                        ],
                        [
                          0.4,
                          "#fde0ef"
                        ],
                        [
                          0.5,
                          "#f7f7f7"
                        ],
                        [
                          0.6,
                          "#e6f5d0"
                        ],
                        [
                          0.7,
                          "#b8e186"
                        ],
                        [
                          0.8,
                          "#7fbc41"
                        ],
                        [
                          0.9,
                          "#4d9221"
                        ],
                        [
                          1,
                          "#276419"
                        ]
                      ],
                      "sequential": [
                        [
                          0,
                          "#0d0887"
                        ],
                        [
                          0.1111111111111111,
                          "#46039f"
                        ],
                        [
                          0.2222222222222222,
                          "#7201a8"
                        ],
                        [
                          0.3333333333333333,
                          "#9c179e"
                        ],
                        [
                          0.4444444444444444,
                          "#bd3786"
                        ],
                        [
                          0.5555555555555556,
                          "#d8576b"
                        ],
                        [
                          0.6666666666666666,
                          "#ed7953"
                        ],
                        [
                          0.7777777777777778,
                          "#fb9f3a"
                        ],
                        [
                          0.8888888888888888,
                          "#fdca26"
                        ],
                        [
                          1,
                          "#f0f921"
                        ]
                      ],
                      "sequentialminus": [
                        [
                          0,
                          "#0d0887"
                        ],
                        [
                          0.1111111111111111,
                          "#46039f"
                        ],
                        [
                          0.2222222222222222,
                          "#7201a8"
                        ],
                        [
                          0.3333333333333333,
                          "#9c179e"
                        ],
                        [
                          0.4444444444444444,
                          "#bd3786"
                        ],
                        [
                          0.5555555555555556,
                          "#d8576b"
                        ],
                        [
                          0.6666666666666666,
                          "#ed7953"
                        ],
                        [
                          0.7777777777777778,
                          "#fb9f3a"
                        ],
                        [
                          0.8888888888888888,
                          "#fdca26"
                        ],
                        [
                          1,
                          "#f0f921"
                        ]
                      ]
                    },
                    "colorway": [
                      "#636efa",
                      "#EF553B",
                      "#00cc96",
                      "#ab63fa",
                      "#FFA15A",
                      "#19d3f3",
                      "#FF6692",
                      "#B6E880",
                      "#FF97FF",
                      "#FECB52"
                    ],
                    "font": {
                      "color": "#2a3f5f"
                    },
                    "geo": {
                      "bgcolor": "white",
                      "lakecolor": "white",
                      "landcolor": "#E5ECF6",
                      "showlakes": true,
                      "showland": true,
                      "subunitcolor": "white"
                    },
                    "hoverlabel": {
                      "align": "left"
                    },
                    "hovermode": "closest",
                    "mapbox": {
                      "style": "light"
                    },
                    "paper_bgcolor": "white",
                    "plot_bgcolor": "#E5ECF6",
                    "polar": {
                      "angularaxis": {
                        "gridcolor": "white",
                        "linecolor": "white",
                        "ticks": ""
                      },
                      "bgcolor": "#E5ECF6",
                      "radialaxis": {
                        "gridcolor": "white",
                        "linecolor": "white",
                        "ticks": ""
                      }
                    },
                    "scene": {
                      "xaxis": {
                        "backgroundcolor": "#E5ECF6",
                        "gridcolor": "white",
                        "gridwidth": 2,
                        "linecolor": "white",
                        "showbackground": true,
                        "ticks": "",
                        "zerolinecolor": "white"
                      },
                      "yaxis": {
                        "backgroundcolor": "#E5ECF6",
                        "gridcolor": "white",
                        "gridwidth": 2,
                        "linecolor": "white",
                        "showbackground": true,
                        "ticks": "",
                        "zerolinecolor": "white"
                      },
                      "zaxis": {
                        "backgroundcolor": "#E5ECF6",
                        "gridcolor": "white",
                        "gridwidth": 2,
                        "linecolor": "white",
                        "showbackground": true,
                        "ticks": "",
                        "zerolinecolor": "white"
                      }
                    },
                    "shapedefaults": {
                      "line": {
                        "color": "#2a3f5f"
                      }
                    },
                    "ternary": {
                      "aaxis": {
                        "gridcolor": "white",
                        "linecolor": "white",
                        "ticks": ""
                      },
                      "baxis": {
                        "gridcolor": "white",
                        "linecolor": "white",
                        "ticks": ""
                      },
                      "bgcolor": "#E5ECF6",
                      "caxis": {
                        "gridcolor": "white",
                        "linecolor": "white",
                        "ticks": ""
                      }
                    },
                    "title": {
                      "x": 0.05
                    },
                    "xaxis": {
                      "automargin": true,
                      "gridcolor": "white",
                      "linecolor": "white",
                      "ticks": "",
                      "title": {
                        "standoff": 15
                      },
                      "zerolinecolor": "white",
                      "zerolinewidth": 2
                    },
                    "yaxis": {
                      "automargin": true,
                      "gridcolor": "white",
                      "linecolor": "white",
                      "ticks": "",
                      "title": {
                        "standoff": 15
                      },
                      "zerolinecolor": "white",
                      "zerolinewidth": 2
                    }
                  }
                },
                "title": {
                  "text": "Optimization History Plot"
                },
                "xaxis": {
                  "title": {
                    "text": "Trial"
                  }
                },
                "yaxis": {
                  "title": {
                    "text": "Objective Value"
                  }
                }
              }
            }
          },
          "metadata": {},
          "output_type": "display_data"
        }
      ],
      "source": [
        "optuna.visualization.plot_optimization_history(study)"
      ]
    },
    {
      "cell_type": "code",
      "execution_count": 43,
      "metadata": {},
      "outputs": [
        {
          "data": {
            "application/vnd.plotly.v1+json": {
              "config": {
                "plotlyServerURL": "https://plot.ly"
              },
              "data": [
                {
                  "cliponaxis": false,
                  "hovertemplate": [
                    "lr_c (CategoricalDistribution): 1.0<extra></extra>"
                  ],
                  "name": "Objective Value",
                  "orientation": "h",
                  "text": [
                    "1.00"
                  ],
                  "textposition": "outside",
                  "type": "bar",
                  "x": [
                    1
                  ],
                  "y": [
                    "lr_c"
                  ]
                }
              ],
              "layout": {
                "template": {
                  "data": {
                    "bar": [
                      {
                        "error_x": {
                          "color": "#2a3f5f"
                        },
                        "error_y": {
                          "color": "#2a3f5f"
                        },
                        "marker": {
                          "line": {
                            "color": "#E5ECF6",
                            "width": 0.5
                          },
                          "pattern": {
                            "fillmode": "overlay",
                            "size": 10,
                            "solidity": 0.2
                          }
                        },
                        "type": "bar"
                      }
                    ],
                    "barpolar": [
                      {
                        "marker": {
                          "line": {
                            "color": "#E5ECF6",
                            "width": 0.5
                          },
                          "pattern": {
                            "fillmode": "overlay",
                            "size": 10,
                            "solidity": 0.2
                          }
                        },
                        "type": "barpolar"
                      }
                    ],
                    "carpet": [
                      {
                        "aaxis": {
                          "endlinecolor": "#2a3f5f",
                          "gridcolor": "white",
                          "linecolor": "white",
                          "minorgridcolor": "white",
                          "startlinecolor": "#2a3f5f"
                        },
                        "baxis": {
                          "endlinecolor": "#2a3f5f",
                          "gridcolor": "white",
                          "linecolor": "white",
                          "minorgridcolor": "white",
                          "startlinecolor": "#2a3f5f"
                        },
                        "type": "carpet"
                      }
                    ],
                    "choropleth": [
                      {
                        "colorbar": {
                          "outlinewidth": 0,
                          "ticks": ""
                        },
                        "type": "choropleth"
                      }
                    ],
                    "contour": [
                      {
                        "colorbar": {
                          "outlinewidth": 0,
                          "ticks": ""
                        },
                        "colorscale": [
                          [
                            0,
                            "#0d0887"
                          ],
                          [
                            0.1111111111111111,
                            "#46039f"
                          ],
                          [
                            0.2222222222222222,
                            "#7201a8"
                          ],
                          [
                            0.3333333333333333,
                            "#9c179e"
                          ],
                          [
                            0.4444444444444444,
                            "#bd3786"
                          ],
                          [
                            0.5555555555555556,
                            "#d8576b"
                          ],
                          [
                            0.6666666666666666,
                            "#ed7953"
                          ],
                          [
                            0.7777777777777778,
                            "#fb9f3a"
                          ],
                          [
                            0.8888888888888888,
                            "#fdca26"
                          ],
                          [
                            1,
                            "#f0f921"
                          ]
                        ],
                        "type": "contour"
                      }
                    ],
                    "contourcarpet": [
                      {
                        "colorbar": {
                          "outlinewidth": 0,
                          "ticks": ""
                        },
                        "type": "contourcarpet"
                      }
                    ],
                    "heatmap": [
                      {
                        "colorbar": {
                          "outlinewidth": 0,
                          "ticks": ""
                        },
                        "colorscale": [
                          [
                            0,
                            "#0d0887"
                          ],
                          [
                            0.1111111111111111,
                            "#46039f"
                          ],
                          [
                            0.2222222222222222,
                            "#7201a8"
                          ],
                          [
                            0.3333333333333333,
                            "#9c179e"
                          ],
                          [
                            0.4444444444444444,
                            "#bd3786"
                          ],
                          [
                            0.5555555555555556,
                            "#d8576b"
                          ],
                          [
                            0.6666666666666666,
                            "#ed7953"
                          ],
                          [
                            0.7777777777777778,
                            "#fb9f3a"
                          ],
                          [
                            0.8888888888888888,
                            "#fdca26"
                          ],
                          [
                            1,
                            "#f0f921"
                          ]
                        ],
                        "type": "heatmap"
                      }
                    ],
                    "heatmapgl": [
                      {
                        "colorbar": {
                          "outlinewidth": 0,
                          "ticks": ""
                        },
                        "colorscale": [
                          [
                            0,
                            "#0d0887"
                          ],
                          [
                            0.1111111111111111,
                            "#46039f"
                          ],
                          [
                            0.2222222222222222,
                            "#7201a8"
                          ],
                          [
                            0.3333333333333333,
                            "#9c179e"
                          ],
                          [
                            0.4444444444444444,
                            "#bd3786"
                          ],
                          [
                            0.5555555555555556,
                            "#d8576b"
                          ],
                          [
                            0.6666666666666666,
                            "#ed7953"
                          ],
                          [
                            0.7777777777777778,
                            "#fb9f3a"
                          ],
                          [
                            0.8888888888888888,
                            "#fdca26"
                          ],
                          [
                            1,
                            "#f0f921"
                          ]
                        ],
                        "type": "heatmapgl"
                      }
                    ],
                    "histogram": [
                      {
                        "marker": {
                          "pattern": {
                            "fillmode": "overlay",
                            "size": 10,
                            "solidity": 0.2
                          }
                        },
                        "type": "histogram"
                      }
                    ],
                    "histogram2d": [
                      {
                        "colorbar": {
                          "outlinewidth": 0,
                          "ticks": ""
                        },
                        "colorscale": [
                          [
                            0,
                            "#0d0887"
                          ],
                          [
                            0.1111111111111111,
                            "#46039f"
                          ],
                          [
                            0.2222222222222222,
                            "#7201a8"
                          ],
                          [
                            0.3333333333333333,
                            "#9c179e"
                          ],
                          [
                            0.4444444444444444,
                            "#bd3786"
                          ],
                          [
                            0.5555555555555556,
                            "#d8576b"
                          ],
                          [
                            0.6666666666666666,
                            "#ed7953"
                          ],
                          [
                            0.7777777777777778,
                            "#fb9f3a"
                          ],
                          [
                            0.8888888888888888,
                            "#fdca26"
                          ],
                          [
                            1,
                            "#f0f921"
                          ]
                        ],
                        "type": "histogram2d"
                      }
                    ],
                    "histogram2dcontour": [
                      {
                        "colorbar": {
                          "outlinewidth": 0,
                          "ticks": ""
                        },
                        "colorscale": [
                          [
                            0,
                            "#0d0887"
                          ],
                          [
                            0.1111111111111111,
                            "#46039f"
                          ],
                          [
                            0.2222222222222222,
                            "#7201a8"
                          ],
                          [
                            0.3333333333333333,
                            "#9c179e"
                          ],
                          [
                            0.4444444444444444,
                            "#bd3786"
                          ],
                          [
                            0.5555555555555556,
                            "#d8576b"
                          ],
                          [
                            0.6666666666666666,
                            "#ed7953"
                          ],
                          [
                            0.7777777777777778,
                            "#fb9f3a"
                          ],
                          [
                            0.8888888888888888,
                            "#fdca26"
                          ],
                          [
                            1,
                            "#f0f921"
                          ]
                        ],
                        "type": "histogram2dcontour"
                      }
                    ],
                    "mesh3d": [
                      {
                        "colorbar": {
                          "outlinewidth": 0,
                          "ticks": ""
                        },
                        "type": "mesh3d"
                      }
                    ],
                    "parcoords": [
                      {
                        "line": {
                          "colorbar": {
                            "outlinewidth": 0,
                            "ticks": ""
                          }
                        },
                        "type": "parcoords"
                      }
                    ],
                    "pie": [
                      {
                        "automargin": true,
                        "type": "pie"
                      }
                    ],
                    "scatter": [
                      {
                        "fillpattern": {
                          "fillmode": "overlay",
                          "size": 10,
                          "solidity": 0.2
                        },
                        "type": "scatter"
                      }
                    ],
                    "scatter3d": [
                      {
                        "line": {
                          "colorbar": {
                            "outlinewidth": 0,
                            "ticks": ""
                          }
                        },
                        "marker": {
                          "colorbar": {
                            "outlinewidth": 0,
                            "ticks": ""
                          }
                        },
                        "type": "scatter3d"
                      }
                    ],
                    "scattercarpet": [
                      {
                        "marker": {
                          "colorbar": {
                            "outlinewidth": 0,
                            "ticks": ""
                          }
                        },
                        "type": "scattercarpet"
                      }
                    ],
                    "scattergeo": [
                      {
                        "marker": {
                          "colorbar": {
                            "outlinewidth": 0,
                            "ticks": ""
                          }
                        },
                        "type": "scattergeo"
                      }
                    ],
                    "scattergl": [
                      {
                        "marker": {
                          "colorbar": {
                            "outlinewidth": 0,
                            "ticks": ""
                          }
                        },
                        "type": "scattergl"
                      }
                    ],
                    "scattermapbox": [
                      {
                        "marker": {
                          "colorbar": {
                            "outlinewidth": 0,
                            "ticks": ""
                          }
                        },
                        "type": "scattermapbox"
                      }
                    ],
                    "scatterpolar": [
                      {
                        "marker": {
                          "colorbar": {
                            "outlinewidth": 0,
                            "ticks": ""
                          }
                        },
                        "type": "scatterpolar"
                      }
                    ],
                    "scatterpolargl": [
                      {
                        "marker": {
                          "colorbar": {
                            "outlinewidth": 0,
                            "ticks": ""
                          }
                        },
                        "type": "scatterpolargl"
                      }
                    ],
                    "scatterternary": [
                      {
                        "marker": {
                          "colorbar": {
                            "outlinewidth": 0,
                            "ticks": ""
                          }
                        },
                        "type": "scatterternary"
                      }
                    ],
                    "surface": [
                      {
                        "colorbar": {
                          "outlinewidth": 0,
                          "ticks": ""
                        },
                        "colorscale": [
                          [
                            0,
                            "#0d0887"
                          ],
                          [
                            0.1111111111111111,
                            "#46039f"
                          ],
                          [
                            0.2222222222222222,
                            "#7201a8"
                          ],
                          [
                            0.3333333333333333,
                            "#9c179e"
                          ],
                          [
                            0.4444444444444444,
                            "#bd3786"
                          ],
                          [
                            0.5555555555555556,
                            "#d8576b"
                          ],
                          [
                            0.6666666666666666,
                            "#ed7953"
                          ],
                          [
                            0.7777777777777778,
                            "#fb9f3a"
                          ],
                          [
                            0.8888888888888888,
                            "#fdca26"
                          ],
                          [
                            1,
                            "#f0f921"
                          ]
                        ],
                        "type": "surface"
                      }
                    ],
                    "table": [
                      {
                        "cells": {
                          "fill": {
                            "color": "#EBF0F8"
                          },
                          "line": {
                            "color": "white"
                          }
                        },
                        "header": {
                          "fill": {
                            "color": "#C8D4E3"
                          },
                          "line": {
                            "color": "white"
                          }
                        },
                        "type": "table"
                      }
                    ]
                  },
                  "layout": {
                    "annotationdefaults": {
                      "arrowcolor": "#2a3f5f",
                      "arrowhead": 0,
                      "arrowwidth": 1
                    },
                    "autotypenumbers": "strict",
                    "coloraxis": {
                      "colorbar": {
                        "outlinewidth": 0,
                        "ticks": ""
                      }
                    },
                    "colorscale": {
                      "diverging": [
                        [
                          0,
                          "#8e0152"
                        ],
                        [
                          0.1,
                          "#c51b7d"
                        ],
                        [
                          0.2,
                          "#de77ae"
                        ],
                        [
                          0.3,
                          "#f1b6da"
                        ],
                        [
                          0.4,
                          "#fde0ef"
                        ],
                        [
                          0.5,
                          "#f7f7f7"
                        ],
                        [
                          0.6,
                          "#e6f5d0"
                        ],
                        [
                          0.7,
                          "#b8e186"
                        ],
                        [
                          0.8,
                          "#7fbc41"
                        ],
                        [
                          0.9,
                          "#4d9221"
                        ],
                        [
                          1,
                          "#276419"
                        ]
                      ],
                      "sequential": [
                        [
                          0,
                          "#0d0887"
                        ],
                        [
                          0.1111111111111111,
                          "#46039f"
                        ],
                        [
                          0.2222222222222222,
                          "#7201a8"
                        ],
                        [
                          0.3333333333333333,
                          "#9c179e"
                        ],
                        [
                          0.4444444444444444,
                          "#bd3786"
                        ],
                        [
                          0.5555555555555556,
                          "#d8576b"
                        ],
                        [
                          0.6666666666666666,
                          "#ed7953"
                        ],
                        [
                          0.7777777777777778,
                          "#fb9f3a"
                        ],
                        [
                          0.8888888888888888,
                          "#fdca26"
                        ],
                        [
                          1,
                          "#f0f921"
                        ]
                      ],
                      "sequentialminus": [
                        [
                          0,
                          "#0d0887"
                        ],
                        [
                          0.1111111111111111,
                          "#46039f"
                        ],
                        [
                          0.2222222222222222,
                          "#7201a8"
                        ],
                        [
                          0.3333333333333333,
                          "#9c179e"
                        ],
                        [
                          0.4444444444444444,
                          "#bd3786"
                        ],
                        [
                          0.5555555555555556,
                          "#d8576b"
                        ],
                        [
                          0.6666666666666666,
                          "#ed7953"
                        ],
                        [
                          0.7777777777777778,
                          "#fb9f3a"
                        ],
                        [
                          0.8888888888888888,
                          "#fdca26"
                        ],
                        [
                          1,
                          "#f0f921"
                        ]
                      ]
                    },
                    "colorway": [
                      "#636efa",
                      "#EF553B",
                      "#00cc96",
                      "#ab63fa",
                      "#FFA15A",
                      "#19d3f3",
                      "#FF6692",
                      "#B6E880",
                      "#FF97FF",
                      "#FECB52"
                    ],
                    "font": {
                      "color": "#2a3f5f"
                    },
                    "geo": {
                      "bgcolor": "white",
                      "lakecolor": "white",
                      "landcolor": "#E5ECF6",
                      "showlakes": true,
                      "showland": true,
                      "subunitcolor": "white"
                    },
                    "hoverlabel": {
                      "align": "left"
                    },
                    "hovermode": "closest",
                    "mapbox": {
                      "style": "light"
                    },
                    "paper_bgcolor": "white",
                    "plot_bgcolor": "#E5ECF6",
                    "polar": {
                      "angularaxis": {
                        "gridcolor": "white",
                        "linecolor": "white",
                        "ticks": ""
                      },
                      "bgcolor": "#E5ECF6",
                      "radialaxis": {
                        "gridcolor": "white",
                        "linecolor": "white",
                        "ticks": ""
                      }
                    },
                    "scene": {
                      "xaxis": {
                        "backgroundcolor": "#E5ECF6",
                        "gridcolor": "white",
                        "gridwidth": 2,
                        "linecolor": "white",
                        "showbackground": true,
                        "ticks": "",
                        "zerolinecolor": "white"
                      },
                      "yaxis": {
                        "backgroundcolor": "#E5ECF6",
                        "gridcolor": "white",
                        "gridwidth": 2,
                        "linecolor": "white",
                        "showbackground": true,
                        "ticks": "",
                        "zerolinecolor": "white"
                      },
                      "zaxis": {
                        "backgroundcolor": "#E5ECF6",
                        "gridcolor": "white",
                        "gridwidth": 2,
                        "linecolor": "white",
                        "showbackground": true,
                        "ticks": "",
                        "zerolinecolor": "white"
                      }
                    },
                    "shapedefaults": {
                      "line": {
                        "color": "#2a3f5f"
                      }
                    },
                    "ternary": {
                      "aaxis": {
                        "gridcolor": "white",
                        "linecolor": "white",
                        "ticks": ""
                      },
                      "baxis": {
                        "gridcolor": "white",
                        "linecolor": "white",
                        "ticks": ""
                      },
                      "bgcolor": "#E5ECF6",
                      "caxis": {
                        "gridcolor": "white",
                        "linecolor": "white",
                        "ticks": ""
                      }
                    },
                    "title": {
                      "x": 0.05
                    },
                    "xaxis": {
                      "automargin": true,
                      "gridcolor": "white",
                      "linecolor": "white",
                      "ticks": "",
                      "title": {
                        "standoff": 15
                      },
                      "zerolinecolor": "white",
                      "zerolinewidth": 2
                    },
                    "yaxis": {
                      "automargin": true,
                      "gridcolor": "white",
                      "linecolor": "white",
                      "ticks": "",
                      "title": {
                        "standoff": 15
                      },
                      "zerolinecolor": "white",
                      "zerolinewidth": 2
                    }
                  }
                },
                "title": {
                  "text": "Hyperparameter Importances"
                },
                "xaxis": {
                  "title": {
                    "text": "Hyperparameter Importance"
                  }
                },
                "yaxis": {
                  "title": {
                    "text": "Hyperparameter"
                  }
                }
              }
            }
          },
          "metadata": {},
          "output_type": "display_data"
        }
      ],
      "source": [
        "optuna.visualization.plot_param_importances(study)"
      ]
    },
    {
      "cell_type": "code",
      "execution_count": 44,
      "metadata": {},
      "outputs": [
        {
          "data": {
            "application/vnd.plotly.v1+json": {
              "config": {
                "plotlyServerURL": "https://plot.ly"
              },
              "data": [
                {
                  "marker": {
                    "color": [
                      0,
                      1,
                      2,
                      3,
                      4,
                      5,
                      6,
                      7,
                      8,
                      9,
                      10,
                      11,
                      12,
                      13,
                      14,
                      15,
                      16,
                      17,
                      18,
                      19
                    ],
                    "colorbar": {
                      "title": {
                        "text": "Trial"
                      },
                      "x": 1,
                      "xpad": 40
                    },
                    "colorscale": [
                      [
                        0,
                        "rgb(247,251,255)"
                      ],
                      [
                        0.125,
                        "rgb(222,235,247)"
                      ],
                      [
                        0.25,
                        "rgb(198,219,239)"
                      ],
                      [
                        0.375,
                        "rgb(158,202,225)"
                      ],
                      [
                        0.5,
                        "rgb(107,174,214)"
                      ],
                      [
                        0.625,
                        "rgb(66,146,198)"
                      ],
                      [
                        0.75,
                        "rgb(33,113,181)"
                      ],
                      [
                        0.875,
                        "rgb(8,81,156)"
                      ],
                      [
                        1,
                        "rgb(8,48,107)"
                      ]
                    ],
                    "line": {
                      "color": "Grey",
                      "width": 0.5
                    }
                  },
                  "mode": "markers",
                  "name": "Feasible Trial",
                  "showlegend": false,
                  "type": "scatter",
                  "x": [
                    0.0005,
                    0.005,
                    0.005,
                    0.0001,
                    0.0005,
                    0.0001,
                    0.0005,
                    0.001,
                    0.001,
                    0.001,
                    0.001,
                    0.005,
                    0.005,
                    0.005,
                    0.001,
                    0.005,
                    0.001,
                    0.0001,
                    0.005,
                    0.001
                  ],
                  "y": [
                    0.8616666666666668,
                    0.8566666666666668,
                    0.8666666666666667,
                    0.8666666666666667,
                    0.85,
                    0.8616666666666667,
                    0.8599999999999999,
                    0.8716666666666667,
                    0.8566666666666668,
                    0.8616666666666667,
                    0.8433333333333333,
                    0.85,
                    0.8616666666666667,
                    0.8650000000000001,
                    0.8583333333333334,
                    0.8666666666666667,
                    0.8616666666666667,
                    0.8599999999999999,
                    0.8766666666666666,
                    0.87
                  ]
                }
              ],
              "layout": {
                "template": {
                  "data": {
                    "bar": [
                      {
                        "error_x": {
                          "color": "#2a3f5f"
                        },
                        "error_y": {
                          "color": "#2a3f5f"
                        },
                        "marker": {
                          "line": {
                            "color": "#E5ECF6",
                            "width": 0.5
                          },
                          "pattern": {
                            "fillmode": "overlay",
                            "size": 10,
                            "solidity": 0.2
                          }
                        },
                        "type": "bar"
                      }
                    ],
                    "barpolar": [
                      {
                        "marker": {
                          "line": {
                            "color": "#E5ECF6",
                            "width": 0.5
                          },
                          "pattern": {
                            "fillmode": "overlay",
                            "size": 10,
                            "solidity": 0.2
                          }
                        },
                        "type": "barpolar"
                      }
                    ],
                    "carpet": [
                      {
                        "aaxis": {
                          "endlinecolor": "#2a3f5f",
                          "gridcolor": "white",
                          "linecolor": "white",
                          "minorgridcolor": "white",
                          "startlinecolor": "#2a3f5f"
                        },
                        "baxis": {
                          "endlinecolor": "#2a3f5f",
                          "gridcolor": "white",
                          "linecolor": "white",
                          "minorgridcolor": "white",
                          "startlinecolor": "#2a3f5f"
                        },
                        "type": "carpet"
                      }
                    ],
                    "choropleth": [
                      {
                        "colorbar": {
                          "outlinewidth": 0,
                          "ticks": ""
                        },
                        "type": "choropleth"
                      }
                    ],
                    "contour": [
                      {
                        "colorbar": {
                          "outlinewidth": 0,
                          "ticks": ""
                        },
                        "colorscale": [
                          [
                            0,
                            "#0d0887"
                          ],
                          [
                            0.1111111111111111,
                            "#46039f"
                          ],
                          [
                            0.2222222222222222,
                            "#7201a8"
                          ],
                          [
                            0.3333333333333333,
                            "#9c179e"
                          ],
                          [
                            0.4444444444444444,
                            "#bd3786"
                          ],
                          [
                            0.5555555555555556,
                            "#d8576b"
                          ],
                          [
                            0.6666666666666666,
                            "#ed7953"
                          ],
                          [
                            0.7777777777777778,
                            "#fb9f3a"
                          ],
                          [
                            0.8888888888888888,
                            "#fdca26"
                          ],
                          [
                            1,
                            "#f0f921"
                          ]
                        ],
                        "type": "contour"
                      }
                    ],
                    "contourcarpet": [
                      {
                        "colorbar": {
                          "outlinewidth": 0,
                          "ticks": ""
                        },
                        "type": "contourcarpet"
                      }
                    ],
                    "heatmap": [
                      {
                        "colorbar": {
                          "outlinewidth": 0,
                          "ticks": ""
                        },
                        "colorscale": [
                          [
                            0,
                            "#0d0887"
                          ],
                          [
                            0.1111111111111111,
                            "#46039f"
                          ],
                          [
                            0.2222222222222222,
                            "#7201a8"
                          ],
                          [
                            0.3333333333333333,
                            "#9c179e"
                          ],
                          [
                            0.4444444444444444,
                            "#bd3786"
                          ],
                          [
                            0.5555555555555556,
                            "#d8576b"
                          ],
                          [
                            0.6666666666666666,
                            "#ed7953"
                          ],
                          [
                            0.7777777777777778,
                            "#fb9f3a"
                          ],
                          [
                            0.8888888888888888,
                            "#fdca26"
                          ],
                          [
                            1,
                            "#f0f921"
                          ]
                        ],
                        "type": "heatmap"
                      }
                    ],
                    "heatmapgl": [
                      {
                        "colorbar": {
                          "outlinewidth": 0,
                          "ticks": ""
                        },
                        "colorscale": [
                          [
                            0,
                            "#0d0887"
                          ],
                          [
                            0.1111111111111111,
                            "#46039f"
                          ],
                          [
                            0.2222222222222222,
                            "#7201a8"
                          ],
                          [
                            0.3333333333333333,
                            "#9c179e"
                          ],
                          [
                            0.4444444444444444,
                            "#bd3786"
                          ],
                          [
                            0.5555555555555556,
                            "#d8576b"
                          ],
                          [
                            0.6666666666666666,
                            "#ed7953"
                          ],
                          [
                            0.7777777777777778,
                            "#fb9f3a"
                          ],
                          [
                            0.8888888888888888,
                            "#fdca26"
                          ],
                          [
                            1,
                            "#f0f921"
                          ]
                        ],
                        "type": "heatmapgl"
                      }
                    ],
                    "histogram": [
                      {
                        "marker": {
                          "pattern": {
                            "fillmode": "overlay",
                            "size": 10,
                            "solidity": 0.2
                          }
                        },
                        "type": "histogram"
                      }
                    ],
                    "histogram2d": [
                      {
                        "colorbar": {
                          "outlinewidth": 0,
                          "ticks": ""
                        },
                        "colorscale": [
                          [
                            0,
                            "#0d0887"
                          ],
                          [
                            0.1111111111111111,
                            "#46039f"
                          ],
                          [
                            0.2222222222222222,
                            "#7201a8"
                          ],
                          [
                            0.3333333333333333,
                            "#9c179e"
                          ],
                          [
                            0.4444444444444444,
                            "#bd3786"
                          ],
                          [
                            0.5555555555555556,
                            "#d8576b"
                          ],
                          [
                            0.6666666666666666,
                            "#ed7953"
                          ],
                          [
                            0.7777777777777778,
                            "#fb9f3a"
                          ],
                          [
                            0.8888888888888888,
                            "#fdca26"
                          ],
                          [
                            1,
                            "#f0f921"
                          ]
                        ],
                        "type": "histogram2d"
                      }
                    ],
                    "histogram2dcontour": [
                      {
                        "colorbar": {
                          "outlinewidth": 0,
                          "ticks": ""
                        },
                        "colorscale": [
                          [
                            0,
                            "#0d0887"
                          ],
                          [
                            0.1111111111111111,
                            "#46039f"
                          ],
                          [
                            0.2222222222222222,
                            "#7201a8"
                          ],
                          [
                            0.3333333333333333,
                            "#9c179e"
                          ],
                          [
                            0.4444444444444444,
                            "#bd3786"
                          ],
                          [
                            0.5555555555555556,
                            "#d8576b"
                          ],
                          [
                            0.6666666666666666,
                            "#ed7953"
                          ],
                          [
                            0.7777777777777778,
                            "#fb9f3a"
                          ],
                          [
                            0.8888888888888888,
                            "#fdca26"
                          ],
                          [
                            1,
                            "#f0f921"
                          ]
                        ],
                        "type": "histogram2dcontour"
                      }
                    ],
                    "mesh3d": [
                      {
                        "colorbar": {
                          "outlinewidth": 0,
                          "ticks": ""
                        },
                        "type": "mesh3d"
                      }
                    ],
                    "parcoords": [
                      {
                        "line": {
                          "colorbar": {
                            "outlinewidth": 0,
                            "ticks": ""
                          }
                        },
                        "type": "parcoords"
                      }
                    ],
                    "pie": [
                      {
                        "automargin": true,
                        "type": "pie"
                      }
                    ],
                    "scatter": [
                      {
                        "fillpattern": {
                          "fillmode": "overlay",
                          "size": 10,
                          "solidity": 0.2
                        },
                        "type": "scatter"
                      }
                    ],
                    "scatter3d": [
                      {
                        "line": {
                          "colorbar": {
                            "outlinewidth": 0,
                            "ticks": ""
                          }
                        },
                        "marker": {
                          "colorbar": {
                            "outlinewidth": 0,
                            "ticks": ""
                          }
                        },
                        "type": "scatter3d"
                      }
                    ],
                    "scattercarpet": [
                      {
                        "marker": {
                          "colorbar": {
                            "outlinewidth": 0,
                            "ticks": ""
                          }
                        },
                        "type": "scattercarpet"
                      }
                    ],
                    "scattergeo": [
                      {
                        "marker": {
                          "colorbar": {
                            "outlinewidth": 0,
                            "ticks": ""
                          }
                        },
                        "type": "scattergeo"
                      }
                    ],
                    "scattergl": [
                      {
                        "marker": {
                          "colorbar": {
                            "outlinewidth": 0,
                            "ticks": ""
                          }
                        },
                        "type": "scattergl"
                      }
                    ],
                    "scattermapbox": [
                      {
                        "marker": {
                          "colorbar": {
                            "outlinewidth": 0,
                            "ticks": ""
                          }
                        },
                        "type": "scattermapbox"
                      }
                    ],
                    "scatterpolar": [
                      {
                        "marker": {
                          "colorbar": {
                            "outlinewidth": 0,
                            "ticks": ""
                          }
                        },
                        "type": "scatterpolar"
                      }
                    ],
                    "scatterpolargl": [
                      {
                        "marker": {
                          "colorbar": {
                            "outlinewidth": 0,
                            "ticks": ""
                          }
                        },
                        "type": "scatterpolargl"
                      }
                    ],
                    "scatterternary": [
                      {
                        "marker": {
                          "colorbar": {
                            "outlinewidth": 0,
                            "ticks": ""
                          }
                        },
                        "type": "scatterternary"
                      }
                    ],
                    "surface": [
                      {
                        "colorbar": {
                          "outlinewidth": 0,
                          "ticks": ""
                        },
                        "colorscale": [
                          [
                            0,
                            "#0d0887"
                          ],
                          [
                            0.1111111111111111,
                            "#46039f"
                          ],
                          [
                            0.2222222222222222,
                            "#7201a8"
                          ],
                          [
                            0.3333333333333333,
                            "#9c179e"
                          ],
                          [
                            0.4444444444444444,
                            "#bd3786"
                          ],
                          [
                            0.5555555555555556,
                            "#d8576b"
                          ],
                          [
                            0.6666666666666666,
                            "#ed7953"
                          ],
                          [
                            0.7777777777777778,
                            "#fb9f3a"
                          ],
                          [
                            0.8888888888888888,
                            "#fdca26"
                          ],
                          [
                            1,
                            "#f0f921"
                          ]
                        ],
                        "type": "surface"
                      }
                    ],
                    "table": [
                      {
                        "cells": {
                          "fill": {
                            "color": "#EBF0F8"
                          },
                          "line": {
                            "color": "white"
                          }
                        },
                        "header": {
                          "fill": {
                            "color": "#C8D4E3"
                          },
                          "line": {
                            "color": "white"
                          }
                        },
                        "type": "table"
                      }
                    ]
                  },
                  "layout": {
                    "annotationdefaults": {
                      "arrowcolor": "#2a3f5f",
                      "arrowhead": 0,
                      "arrowwidth": 1
                    },
                    "autotypenumbers": "strict",
                    "coloraxis": {
                      "colorbar": {
                        "outlinewidth": 0,
                        "ticks": ""
                      }
                    },
                    "colorscale": {
                      "diverging": [
                        [
                          0,
                          "#8e0152"
                        ],
                        [
                          0.1,
                          "#c51b7d"
                        ],
                        [
                          0.2,
                          "#de77ae"
                        ],
                        [
                          0.3,
                          "#f1b6da"
                        ],
                        [
                          0.4,
                          "#fde0ef"
                        ],
                        [
                          0.5,
                          "#f7f7f7"
                        ],
                        [
                          0.6,
                          "#e6f5d0"
                        ],
                        [
                          0.7,
                          "#b8e186"
                        ],
                        [
                          0.8,
                          "#7fbc41"
                        ],
                        [
                          0.9,
                          "#4d9221"
                        ],
                        [
                          1,
                          "#276419"
                        ]
                      ],
                      "sequential": [
                        [
                          0,
                          "#0d0887"
                        ],
                        [
                          0.1111111111111111,
                          "#46039f"
                        ],
                        [
                          0.2222222222222222,
                          "#7201a8"
                        ],
                        [
                          0.3333333333333333,
                          "#9c179e"
                        ],
                        [
                          0.4444444444444444,
                          "#bd3786"
                        ],
                        [
                          0.5555555555555556,
                          "#d8576b"
                        ],
                        [
                          0.6666666666666666,
                          "#ed7953"
                        ],
                        [
                          0.7777777777777778,
                          "#fb9f3a"
                        ],
                        [
                          0.8888888888888888,
                          "#fdca26"
                        ],
                        [
                          1,
                          "#f0f921"
                        ]
                      ],
                      "sequentialminus": [
                        [
                          0,
                          "#0d0887"
                        ],
                        [
                          0.1111111111111111,
                          "#46039f"
                        ],
                        [
                          0.2222222222222222,
                          "#7201a8"
                        ],
                        [
                          0.3333333333333333,
                          "#9c179e"
                        ],
                        [
                          0.4444444444444444,
                          "#bd3786"
                        ],
                        [
                          0.5555555555555556,
                          "#d8576b"
                        ],
                        [
                          0.6666666666666666,
                          "#ed7953"
                        ],
                        [
                          0.7777777777777778,
                          "#fb9f3a"
                        ],
                        [
                          0.8888888888888888,
                          "#fdca26"
                        ],
                        [
                          1,
                          "#f0f921"
                        ]
                      ]
                    },
                    "colorway": [
                      "#636efa",
                      "#EF553B",
                      "#00cc96",
                      "#ab63fa",
                      "#FFA15A",
                      "#19d3f3",
                      "#FF6692",
                      "#B6E880",
                      "#FF97FF",
                      "#FECB52"
                    ],
                    "font": {
                      "color": "#2a3f5f"
                    },
                    "geo": {
                      "bgcolor": "white",
                      "lakecolor": "white",
                      "landcolor": "#E5ECF6",
                      "showlakes": true,
                      "showland": true,
                      "subunitcolor": "white"
                    },
                    "hoverlabel": {
                      "align": "left"
                    },
                    "hovermode": "closest",
                    "mapbox": {
                      "style": "light"
                    },
                    "paper_bgcolor": "white",
                    "plot_bgcolor": "#E5ECF6",
                    "polar": {
                      "angularaxis": {
                        "gridcolor": "white",
                        "linecolor": "white",
                        "ticks": ""
                      },
                      "bgcolor": "#E5ECF6",
                      "radialaxis": {
                        "gridcolor": "white",
                        "linecolor": "white",
                        "ticks": ""
                      }
                    },
                    "scene": {
                      "xaxis": {
                        "backgroundcolor": "#E5ECF6",
                        "gridcolor": "white",
                        "gridwidth": 2,
                        "linecolor": "white",
                        "showbackground": true,
                        "ticks": "",
                        "zerolinecolor": "white"
                      },
                      "yaxis": {
                        "backgroundcolor": "#E5ECF6",
                        "gridcolor": "white",
                        "gridwidth": 2,
                        "linecolor": "white",
                        "showbackground": true,
                        "ticks": "",
                        "zerolinecolor": "white"
                      },
                      "zaxis": {
                        "backgroundcolor": "#E5ECF6",
                        "gridcolor": "white",
                        "gridwidth": 2,
                        "linecolor": "white",
                        "showbackground": true,
                        "ticks": "",
                        "zerolinecolor": "white"
                      }
                    },
                    "shapedefaults": {
                      "line": {
                        "color": "#2a3f5f"
                      }
                    },
                    "ternary": {
                      "aaxis": {
                        "gridcolor": "white",
                        "linecolor": "white",
                        "ticks": ""
                      },
                      "baxis": {
                        "gridcolor": "white",
                        "linecolor": "white",
                        "ticks": ""
                      },
                      "bgcolor": "#E5ECF6",
                      "caxis": {
                        "gridcolor": "white",
                        "linecolor": "white",
                        "ticks": ""
                      }
                    },
                    "title": {
                      "x": 0.05
                    },
                    "xaxis": {
                      "automargin": true,
                      "gridcolor": "white",
                      "linecolor": "white",
                      "ticks": "",
                      "title": {
                        "standoff": 15
                      },
                      "zerolinecolor": "white",
                      "zerolinewidth": 2
                    },
                    "yaxis": {
                      "automargin": true,
                      "gridcolor": "white",
                      "linecolor": "white",
                      "ticks": "",
                      "title": {
                        "standoff": 15
                      },
                      "zerolinecolor": "white",
                      "zerolinewidth": 2
                    }
                  }
                },
                "title": {
                  "text": "Slice Plot"
                },
                "xaxis": {
                  "categoryarray": [
                    0.0001,
                    0.0005,
                    0.001,
                    0.005
                  ],
                  "categoryorder": "array",
                  "title": {
                    "text": "lr_c"
                  },
                  "type": "category"
                },
                "yaxis": {
                  "title": {
                    "text": "Objective Value"
                  }
                }
              }
            }
          },
          "metadata": {},
          "output_type": "display_data"
        }
      ],
      "source": [
        "optuna.visualization.plot_slice(study)"
      ]
    },
    {
      "cell_type": "code",
      "execution_count": 37,
      "metadata": {},
      "outputs": [
        {
          "name": "stdout",
          "output_type": "stream",
          "text": [
            "Study 保存成功！\n"
          ]
        }
      ],
      "source": [
        "import pickle\n",
        "import optuna\n",
        "\n",
        "# 假设你已经创建并运行了 study\n",
        "# study = optuna.create_study(direction=\"maximize\")\n",
        "# study.optimize(objective, n_trials=50)  # 运行优化\n",
        "\n",
        "# 保存 study 到文件\n",
        "with open(\"optuna_study_mid_CNN-2.pkl\", \"wb\") as f:\n",
        "    pickle.dump(study, f)\n",
        "\n",
        "print(\"Study 保存成功！\")"
      ]
    }
  ],
  "metadata": {
    "kernelspec": {
      "display_name": "dl",
      "language": "python",
      "name": "python3"
    },
    "language_info": {
      "codemirror_mode": {
        "name": "ipython",
        "version": 3
      },
      "file_extension": ".py",
      "mimetype": "text/x-python",
      "name": "python",
      "nbconvert_exporter": "python",
      "pygments_lexer": "ipython3",
      "version": "3.8.20"
    }
  },
  "nbformat": 4,
  "nbformat_minor": 2
}